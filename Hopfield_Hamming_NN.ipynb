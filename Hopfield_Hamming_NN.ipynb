{
 "cells": [
  {
   "cell_type": "code",
   "execution_count": 1,
   "id": "51ee371f",
   "metadata": {},
   "outputs": [],
   "source": [
    "import matplotlib.pyplot as plt\n",
    "%matplotlib inline"
   ]
  },
  {
   "cell_type": "code",
   "execution_count": 2,
   "id": "4110fb7a",
   "metadata": {},
   "outputs": [],
   "source": [
    "n = 8"
   ]
  },
  {
   "cell_type": "code",
   "execution_count": 3,
   "id": "39d615b1",
   "metadata": {},
   "outputs": [],
   "source": [
    "#Функция создает двумерный массив, заполненный нулями\n",
    "def zeros(row_num, col_num):\n",
    "    if row_num == 1:\n",
    "        return [0 for i in range(col_num)]\n",
    "    return [[0 for i in range(col_num)] for j in range(row_num)]\n",
    "\n",
    "#Функция добавления элемента в массив\n",
    "def append(x, el):\n",
    "    new_x = [0 for i in range(len(x) + 1)]\n",
    "    for i in range(len(x)):\n",
    "        new_x[i] = x[i]\n",
    "    new_x[-1] = el\n",
    "    return new_x"
   ]
  },
  {
   "cell_type": "code",
   "execution_count": 4,
   "id": "f70ca89a",
   "metadata": {},
   "outputs": [],
   "source": [
    "#Функция считывания картинки из файла\n",
    "def get_matrix(filename):\n",
    "    with open(filename, \"r\") as f:\n",
    "        lines = f.readlines()\n",
    "        res = zeros(n, n)\n",
    "        for i in range(len(lines)):\n",
    "            tmp = []\n",
    "            for s in list(lines[i]):\n",
    "                if s == '\\n':\n",
    "                    continue\n",
    "                if s == \"*\":\n",
    "                    tmp = append(tmp, int(1))\n",
    "                else:\n",
    "                    tmp = append(tmp, -1)\n",
    "            res[i] = tmp\n",
    "        return res"
   ]
  },
  {
   "cell_type": "code",
   "execution_count": 5,
   "id": "a589224c",
   "metadata": {},
   "outputs": [],
   "source": [
    "#Функция отрисовки картинки\n",
    "import numpy as np\n",
    "\n",
    "def show_image(matrix):\n",
    "    image = plt.imshow(matrix, cmap = 'Greys')\n",
    "    ax = plt.gca()\n",
    "    ax.set_xticks(np.arange(.5, 8.5, 1), minor = True)\n",
    "    ax.set_yticks(np.arange(.5, 8.5, 1), minor = True)\n",
    "    ax.grid(which = 'minor', color = 'k', linestyle = '-', linewidth = 2)\n",
    "    ax.axes.xaxis.set_ticklabels([])\n",
    "    ax.axes.yaxis.set_ticklabels([])\n",
    "    plt.show()"
   ]
  },
  {
   "cell_type": "code",
   "execution_count": 6,
   "id": "14cb27a2",
   "metadata": {},
   "outputs": [],
   "source": [
    "#Матрица весов\n",
    "def change_weights(vectors, weights):\n",
    "    res = zeros(n*n, n*n)\n",
    "    for i in range (n*n):\n",
    "        for j in range(n*n):\n",
    "            if i!=j:\n",
    "                s = 0\n",
    "                for x in vectors:\n",
    "                    s += x[i]*x[j]\n",
    "                res[i][j] = weights[i][j] + s\n",
    "    return res"
   ]
  },
  {
   "cell_type": "code",
   "execution_count": 7,
   "id": "3905127e",
   "metadata": {},
   "outputs": [],
   "source": [
    "#Функция активации\n",
    "def activation(x):\n",
    "    res = []\n",
    "    for el  in x:\n",
    "        if el >= 0:\n",
    "            res = append(res, 1)\n",
    "        else:\n",
    "            res = append(res, -1)\n",
    "    return res"
   ]
  },
  {
   "cell_type": "code",
   "execution_count": 8,
   "id": "d3057a3a",
   "metadata": {},
   "outputs": [],
   "source": [
    "#Функционирование сети\n",
    "def get_image(y_test, w):\n",
    "    state = zeros(1, n*n)\n",
    "    for j in range(n*n):\n",
    "        sum = 0\n",
    "        for i in range(n*n):\n",
    "            sum += w[i][j] * y_test[i]\n",
    "        state[j] = sum\n",
    "    return activation(state)"
   ]
  },
  {
   "cell_type": "code",
   "execution_count": 9,
   "id": "f6a1901c",
   "metadata": {},
   "outputs": [],
   "source": [
    "#Формирование матрицы из выходного вектора\n",
    "def form_matrix(y):\n",
    "    matrix = []\n",
    "    for i in range(0, len(y), n):\n",
    "        matrix = append(matrix, y[i:i+n])\n",
    "    return matrix"
   ]
  },
  {
   "cell_type": "code",
   "execution_count": 10,
   "id": "9b6f250f",
   "metadata": {},
   "outputs": [],
   "source": [
    "#Преобразование матрицы в вектор\n",
    "def flatten(matrix):\n",
    "    flatten_array = []\n",
    "    for i in range(len(matrix)):\n",
    "        for j in range(len(matrix[i])):\n",
    "            flatten_array = append(flatten_array, matrix[i][j])\n",
    "    return flatten_array"
   ]
  },
  {
   "cell_type": "code",
   "execution_count": 11,
   "id": "ce8f78a5",
   "metadata": {},
   "outputs": [],
   "source": [
    "#Проверка массивов на равенство\n",
    "def array_equal(arr1, arr2):\n",
    "    for i in range(len(arr1)):\n",
    "        if arr1[i] != arr2[i]:\n",
    "            return False\n",
    "    return True"
   ]
  },
  {
   "cell_type": "code",
   "execution_count": 12,
   "id": "92a0d75d",
   "metadata": {},
   "outputs": [],
   "source": [
    "images = ['img1.txt',\n",
    "         'img2.txt',\n",
    "         'img3.txt',\n",
    "         'img4.txt']\n",
    "image_vectors = []\n",
    "matrices = []"
   ]
  },
  {
   "cell_type": "code",
   "execution_count": 13,
   "id": "3ba540fc",
   "metadata": {},
   "outputs": [
    {
     "name": "stdout",
     "output_type": "stream",
     "text": [
      "img1.txt\n"
     ]
    },
    {
     "data": {
      "image/png": "[encoded data removed]",
      "text/plain": [
       "<Figure size 432x288 with 1 Axes>"
      ]
     },
     "metadata": {
      "needs_background": "light"
     },
     "output_type": "display_data"
    },
    {
     "name": "stdout",
     "output_type": "stream",
     "text": [
      "img2.txt\n"
     ]
    },
    {
     "data": {
      "image/png": "[encoded data removed]",
      "text/plain": [
       "<Figure size 432x288 with 1 Axes>"
      ]
     },
     "metadata": {
      "needs_background": "light"
     },
     "output_type": "display_data"
    },
    {
     "name": "stdout",
     "output_type": "stream",
     "text": [
      "img3.txt\n"
     ]
    },
    {
     "data": {
      "image/png": "[encoded data removed]",
      "text/plain": [
       "<Figure size 432x288 with 1 Axes>"
      ]
     },
     "metadata": {
      "needs_background": "light"
     },
     "output_type": "display_data"
    },
    {
     "name": "stdout",
     "output_type": "stream",
     "text": [
      "img4.txt\n"
     ]
    },
    {
     "data": {
      "image/png": "[encoded data removed]",
      "text/plain": [
       "<Figure size 432x288 with 1 Axes>"
      ]
     },
     "metadata": {
      "needs_background": "light"
     },
     "output_type": "display_data"
    }
   ],
   "source": [
    "#Считываем картинки из файлов\n",
    "for i in images:\n",
    "    model = get_matrix(i)\n",
    "    print(i[-8:])\n",
    "    show_image(model)\n",
    "    matrices = append(matrices, model)\n",
    "    image_vectors = append(image_vectors, flatten(model))"
   ]
  },
  {
   "cell_type": "code",
   "execution_count": 14,
   "id": "d9ddc254",
   "metadata": {},
   "outputs": [
    {
     "data": {
      "image/png": "[encoded data removed]",
      "text/plain": [
       "<Figure size 432x288 with 1 Axes>"
      ]
     },
     "metadata": {
      "needs_background": "light"
     },
     "output_type": "display_data"
    }
   ],
   "source": [
    "w = zeros(n*n, n*n)\n",
    "w = change_weights(image_vectors, w)\n",
    "test_filename = 'test2.txt'\n",
    "y = get_matrix(test_filename)\n",
    "show_image(y)\n",
    "y_new = flatten(y)"
   ]
  },
  {
   "cell_type": "code",
   "execution_count": 15,
   "id": "a9cdd950",
   "metadata": {},
   "outputs": [],
   "source": [
    "#Создание копии одномерного вектора\n",
    "def copy(x):\n",
    "    y = [0 for i in range(len(x))]\n",
    "    for i in range(len(x)):\n",
    "        y[i] = x[i]\n",
    "    return y"
   ]
  },
  {
   "cell_type": "code",
   "execution_count": 17,
   "id": "0f3286ce",
   "metadata": {},
   "outputs": [
    {
     "name": "stdout",
     "output_type": "stream",
     "text": [
      "stop\n",
      "Изображение восстановлено\n"
     ]
    },
    {
     "data": {
      "image/png": "[encoded data removed]",
      "text/plain": [
       "<Figure size 432x288 with 1 Axes>"
      ]
     },
     "metadata": {
      "needs_background": "light"
     },
     "output_type": "display_data"
    }
   ],
   "source": [
    "y_old = copy(y_new)\n",
    "y_new = get_image(y_new, w)\n",
    "matrix = form_matrix(y_new)\n",
    "\n",
    "if array_equal(y_old, y_new):\n",
    "    print('stop')\n",
    "    find = False\n",
    "    for x in image_vectors:\n",
    "        if array_equal(y_new, x):\n",
    "            find = True\n",
    "            break\n",
    "    if find:\n",
    "        print('Изображение восстановлено')\n",
    "    else:\n",
    "        print('Не удалось восстановить изображение')\n",
    "show_image(matrix)"
   ]
  },
  {
   "cell_type": "code",
   "execution_count": 18,
   "id": "9a511d21",
   "metadata": {},
   "outputs": [],
   "source": [
    "# Нахождение весовых коэффициентов синапсов для сети Хеминга\n",
    "def heming_change_weights(vectors, w):\n",
    "    res = zeros(n*n, len(vectors))\n",
    "    for i in range(n*n):\n",
    "        for j in range(len(vectors)):\n",
    "            res[i][j] = w[i][j] + float(vectors[j][i]) / 2\n",
    "    return res"
   ]
  },
  {
   "cell_type": "code",
   "execution_count": 19,
   "id": "a5457b00",
   "metadata": {},
   "outputs": [],
   "source": [
    "#Инициализация нейронов 1-го слоя\n",
    "def init_layer(vector, w):\n",
    "    y_prev = zeros(1, len(image_vectors))\n",
    "    T = [n*n/2 for i in range(len(image_vectors))] \n",
    "    for i in range(len(y_prev)):\n",
    "        for j in range(n*n):\n",
    "            y_prev[i] += w[j][i] * vector[j]\n",
    "        y_prev[i] += T[i]\n",
    "    return y_prev"
   ]
  },
  {
   "cell_type": "code",
   "execution_count": 20,
   "id": "ff96c5b0",
   "metadata": {},
   "outputs": [],
   "source": [
    "#Запуск сети Хеминга на новом изображении\n",
    "def heming_get_image(y_test, eps):\n",
    "    state = zeros(1, len(y_test))\n",
    "    for i in range(len(y_test)):\n",
    "        sum = y_test[i]\n",
    "        for j in range(len(y_test)):\n",
    "            if i != j:\n",
    "                sum -= eps * y_test[j]\n",
    "        state[i] = sum\n",
    "    \n",
    "    for i in range(len(state)):\n",
    "        if state[i] < 0:\n",
    "            state[i] = 0\n",
    "    return state"
   ]
  },
  {
   "cell_type": "code",
   "execution_count": 21,
   "id": "6cb634ba",
   "metadata": {
    "scrolled": false
   },
   "outputs": [
    {
     "data": {
      "image/png": "[encoded data removed]",
      "text/plain": [
       "<Figure size 432x288 with 1 Axes>"
      ]
     },
     "metadata": {
      "needs_background": "light"
     },
     "output_type": "display_data"
    }
   ],
   "source": [
    "w = zeros(n*n, len(image_vectors))\n",
    "w = heming_change_weights(image_vectors, w)\n",
    "test_filename = 'test1.txt'\n",
    "y = get_matrix(test_filename)\n",
    "show_image(y)\n",
    "y_new = init_layer(flatten(y), w)\n",
    "eps = 0.4"
   ]
  },
  {
   "cell_type": "code",
   "execution_count": 23,
   "id": "2186d18a",
   "metadata": {},
   "outputs": [
    {
     "name": "stdout",
     "output_type": "stream",
     "text": [
      "stop\n",
      "Изображение восстановлено\n",
      "[0, 20.4, 0, 0]\n"
     ]
    }
   ],
   "source": [
    "y_old = copy(y_new)\n",
    "y_new = heming_get_image(y_new, eps)\n",
    "\n",
    "if array_equal(y_old, y_new):\n",
    "    print('stop')\n",
    "    count = 0\n",
    "    for x in y_new:\n",
    "        if x > 0:\n",
    "            count += 1\n",
    "    if count == 1:\n",
    "        print('Изображение восстановлено')\n",
    "    else:\n",
    "        print('Не удалось восстановить изображение')\n",
    "print(y_new)"
   ]
  },
  {
   "cell_type": "code",
   "execution_count": null,
   "id": "601b1219",
   "metadata": {},
   "outputs": [],
   "source": []
  }
 ],
 "metadata": {
  "interpreter": {
   "hash": "26d454b6d51f8cca63c27470cd93c3e036b78726a69ae61d523bbfb4e1bb5d73"
  },
  "kernelspec": {
   "display_name": "Python 3 (ipykernel)",
   "language": "python",
   "name": "python3"
  },
  "language_info": {
   "codemirror_mode": {
    "name": "ipython",
    "version": 3
   },
   "file_extension": ".py",
   "mimetype": "text/x-python",
   "name": "python",
   "nbconvert_exporter": "python",
   "pygments_lexer": "ipython3",
   "version": "3.8.12"
  }
 },
 "nbformat": 4,
 "nbformat_minor": 5
}
